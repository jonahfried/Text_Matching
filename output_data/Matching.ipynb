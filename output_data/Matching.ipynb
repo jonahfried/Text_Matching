{
 "cells": [
  {
   "cell_type": "code",
   "execution_count": 1,
   "metadata": {},
   "outputs": [],
   "source": [
    "import os, math\n",
    "import pandas as pd"
   ]
  },
  {
   "cell_type": "code",
   "execution_count": 2,
   "metadata": {
    "scrolled": true
   },
   "outputs": [],
   "source": [
    "blogPath = \"./blogs/\"\n",
    "pathList = os.listdir(path=blogPath)\n",
    "blogSampleSize = 15"
   ]
  },
  {
   "cell_type": "code",
   "execution_count": 3,
   "metadata": {},
   "outputs": [
    {
     "data": {
      "text/plain": [
       "['1000331', 'female', '37', 'indUnk', 'Leo', 'xml']"
      ]
     },
     "execution_count": 3,
     "metadata": {},
     "output_type": "execute_result"
    }
   ],
   "source": [
    "pathList[0].split(\".\")"
   ]
  },
  {
   "cell_type": "code",
   "execution_count": 4,
   "metadata": {},
   "outputs": [],
   "source": [
    "def getOccupation(lst):\n",
    "    rtrn = []\n",
    "    for person in lst:\n",
    "        rtrn.append(person.split(\".\")[3])\n",
    "    return rtrn\n",
    "\n",
    "occupations = getOccupation(pathList)[:blogSampleSize]\n",
    "occupationDict = {}\n",
    "occupationCounter = 0\n",
    "for occ in occupations:\n",
    "    if occ not in occupationDict:\n",
    "        occupationDict[occ] = str(occupationCounter)\n",
    "        occupationCounter += 1"
   ]
  },
  {
   "cell_type": "code",
   "execution_count": 5,
   "metadata": {
    "scrolled": true
   },
   "outputs": [],
   "source": [
    "blogs = []\n",
    "for ind in range(blogSampleSize):\n",
    "    file = open(blogPath+pathList[ind], \"rb\")\n",
    "    posts = []\n",
    "    for line in file:\n",
    "        text = line.decode(\"utf-8\", errors=\"ignore\")\n",
    "        text = text.strip()\n",
    "        if text != \"\" and text[0] != \"<\":\n",
    "            posts.append(text)\n",
    "    blogs.append(\" \".join(posts))\n",
    "    file.close()\n"
   ]
  },
  {
   "cell_type": "code",
   "execution_count": 6,
   "metadata": {},
   "outputs": [],
   "source": [
    "# splits up a string into a list of words.\n",
    "# str -> [str]\n",
    "def getWords(str):\n",
    "    words = []\n",
    "    \n",
    "    str = str+\".\"\n",
    "    lastInd = 0\n",
    "    for ind in range(len(str)):\n",
    "        if not (str[ind].isalpha()):\n",
    "            if lastInd == ind:\n",
    "                lastInd += 1\n",
    "                continue\n",
    "            else:\n",
    "                words.append(str[lastInd:ind].lower())\n",
    "                lastInd = ind+1\n",
    "    \n",
    "    return words\n",
    "            "
   ]
  },
  {
   "cell_type": "code",
   "execution_count": 7,
   "metadata": {},
   "outputs": [],
   "source": [
    "dicts = []\n",
    "allWordsSeen = {}\n",
    "for blog in blogs:\n",
    "    newDict = {}\n",
    "    dicts.append(newDict)\n",
    "    wordList = getWords(blog)\n",
    "    for word in wordList:\n",
    "#         ADD TO THIS PERSON'S DICT\n",
    "        if word not in newDict:\n",
    "            newDict[word] = 1\n",
    "        else:\n",
    "            newDict[word] += 1\n",
    "#         ADD TO ALL WORDS SEEN\n",
    "        if word not in allWordsSeen:\n",
    "            allWordsSeen[word] = 1\n",
    "        else:\n",
    "            allWordsSeen[word] += 1\n",
    "\n"
   ]
  },
  {
   "cell_type": "code",
   "execution_count": 8,
   "metadata": {},
   "outputs": [],
   "source": [
    "totalPeople = len(dicts)\n",
    "testWordList = [word for word in allWordsSeen if ((allWordsSeen[word]/totalPeople > .50) or (allWordsSeen[word]/totalPeople < .01))]\n",
    "wordsToRemove = []\n",
    "for word in allWordsSeen:\n",
    "    count = allWordsSeen[word]\n",
    "    \n",
    "    if ((count / totalPeople) > .50) or ((count / totalPeople) < .01):\n",
    "#         print(word)\n",
    "#         del allWordsSeen[word]\n",
    "        wordsToRemove.append(word)\n",
    "        for person in dicts:\n",
    "            if word in person:\n",
    "                del person[word]\n",
    "    else:\n",
    "        for person in dicts:\n",
    "            if word not in person:\n",
    "                person[word] = 0\n",
    "\n",
    "for word in wordsToRemove:\n",
    "    del allWordsSeen[word]"
   ]
  },
  {
   "cell_type": "code",
   "execution_count": 9,
   "metadata": {},
   "outputs": [
    {
     "name": "stdout",
     "output_type": "stream",
     "text": [
      "[]\n"
     ]
    }
   ],
   "source": [
    "print([word for word in testWordList if word not in wordsToRemove])"
   ]
  },
  {
   "cell_type": "code",
   "execution_count": null,
   "metadata": {},
   "outputs": [],
   "source": []
  },
  {
   "cell_type": "code",
   "execution_count": 10,
   "metadata": {},
   "outputs": [],
   "source": [
    "dictOfDicts = {}\n",
    "for ind in range(blogSampleSize):\n",
    "    dictOfDicts[pathList[ind]] = dicts[ind]"
   ]
  },
  {
   "cell_type": "code",
   "execution_count": 11,
   "metadata": {
    "scrolled": false
   },
   "outputs": [],
   "source": [
    "tdm = pd.DataFrame(dictOfDicts, dtype=float)\n",
    "# tdm = tdm.transpose()\n",
    "# tdm"
   ]
  },
  {
   "cell_type": "code",
   "execution_count": 12,
   "metadata": {},
   "outputs": [],
   "source": [
    "def termFrequency(person):\n",
    "    return .5 + (.5*person/person.max())"
   ]
  },
  {
   "cell_type": "code",
   "execution_count": 13,
   "metadata": {},
   "outputs": [],
   "source": [
    "for word in allWordsSeen:\n",
    "    word\n",
    "#     personCount = 0\n",
    "#     for person in tdm:\n",
    "#         print(tdm[person][word])\n"
   ]
  },
  {
   "cell_type": "code",
   "execution_count": 14,
   "metadata": {},
   "outputs": [
    {
     "data": {
      "text/plain": [
       "0.0"
      ]
     },
     "execution_count": 14,
     "metadata": {},
     "output_type": "execute_result"
    }
   ],
   "source": [
    "tdm['1000331.female.37.indUnk.Leo.xml'][\"aa\"]"
   ]
  },
  {
   "cell_type": "code",
   "execution_count": 15,
   "metadata": {},
   "outputs": [],
   "source": [
    "# (This step scales really badly)\n",
    "\n",
    "IDF_Dict = {}\n",
    "for word in allWordsSeen:\n",
    "    personCount = 0\n",
    "    for person in tdm:\n",
    "        if tdm[person][word] > 0:\n",
    "            personCount += 1\n",
    "    if personCount > 0:\n",
    "        IDF_Dict[word] = math.log(blogSampleSize / personCount)"
   ]
  },
  {
   "cell_type": "code",
   "execution_count": 16,
   "metadata": {},
   "outputs": [],
   "source": [
    "# IDF_Dict"
   ]
  },
  {
   "cell_type": "code",
   "execution_count": 17,
   "metadata": {},
   "outputs": [],
   "source": [
    "# for person in tdm:\n",
    "#     tdm[person] = termFrequency(tdm[person])\n",
    "#     for i in range(len(person)):\n",
    "#         tdm[person][i] = tdm[person][i] * IDF_Dict[tdm[person].keys()[i]]"
   ]
  },
  {
   "cell_type": "code",
   "execution_count": 18,
   "metadata": {},
   "outputs": [],
   "source": [
    "# tdm['1000331.female.37.indUnk.Leo.xml']"
   ]
  },
  {
   "cell_type": "code",
   "execution_count": 19,
   "metadata": {},
   "outputs": [],
   "source": [
    "# cosDist = sum(ser1*ser2)/(sqrt(sum(ser1^2)) * sqrt(sum(ser2^2)))\n",
    "# def cosDist(ser1, ser2):\n",
    "#     numerator = ser1.dot(ser2)\n",
    "#     ser1Denominator = 0\n",
    "#     for val in ser1:\n",
    "#         ser1Denominator += math.pow(val, 2)\n",
    "#     ser1Denominator = math.sqrt(ser1Denominator)\n",
    "#     ser2Denominator = 0\n",
    "#     for val in ser2:\n",
    "#         ser2Denominator += math.pow(val, 2)\n",
    "#     ser2Denominator = math.sqrt(ser2Denominator)\n",
    "#     return 1 - numerator/(ser1Denominator*ser2Denominator)\n",
    "\n",
    "def cosDist(ser1, ser2):\n",
    "    numerator = ser1.dot(ser2)\n",
    "    # ser1Denominator = itertools.accumulate(ser1, )\n",
    "    # for val in ser1:\n",
    "    #     ser1Denominator += math.pow(val, 2)\n",
    "    ser1Denominator = math.sqrt(sum(map((lambda x: x**2), ser1)))\n",
    "    ser2Denominator = math.sqrt(sum(map((lambda x: x**2), ser2)))\n",
    "    # ser2Denominator = 0\n",
    "    # for val in ser2:\n",
    "    #     ser2Denominator += math.pow(val, 2)\n",
    "    # ser2Denominator = math.sqrt(ser2Denominator)\n",
    "    return 1 - numerator/(ser1Denominator*ser2Denominator)"
   ]
  },
  {
   "cell_type": "code",
   "execution_count": 20,
   "metadata": {},
   "outputs": [
    {
     "data": {
      "text/plain": [
       "136.0404351654316"
      ]
     },
     "execution_count": 20,
     "metadata": {},
     "output_type": "execute_result"
    }
   ],
   "source": [
    "# cosDist(tdm['1000331.female.37.indUnk.Leo.xml'], tdm['1008329.female.16.Student.Pisces.xml'])\n",
    "pt1 = math.sqrt(sum(map((lambda x: x**2), tdm['1000331.female.37.indUnk.Leo.xml'])))\n",
    "pt2 = math.sqrt(sum(map((lambda x: x**2), tdm['1011153.female.27.Technology.Virgo.xml'])))\n",
    "pt1*pt2"
   ]
  },
  {
   "cell_type": "code",
   "execution_count": 21,
   "metadata": {},
   "outputs": [],
   "source": [
    "testDict = {person:{relation:cosDist(tdm[person], tdm[relation]) for relation in tdm} for person in tdm}"
   ]
  },
  {
   "cell_type": "code",
   "execution_count": 22,
   "metadata": {},
   "outputs": [
    {
     "data": {
      "text/plain": [
       "{'1000331.female.37.indUnk.Leo.xml': {'1000331.female.37.indUnk.Leo.xml': 0.0,\n",
       "  '1004904.male.23.Arts.Capricorn.xml': 1.0,\n",
       "  '1005076.female.25.Arts.Cancer.xml': 1.0,\n",
       "  '1005545.male.25.Engineering.Sagittarius.xml': 0.9860537004037397,\n",
       "  '1007188.male.48.Religion.Libra.xml': 1.0,\n",
       "  '100812.female.26.Architecture.Aries.xml': 0.979839171567941,\n",
       "  '1008329.female.16.Student.Pisces.xml': 0.9935006902442041,\n",
       "  '1009572.male.25.indUnk.Cancer.xml': 1.0,\n",
       "  '1011153.female.27.Technology.Virgo.xml': 1.0,\n",
       "  '1011289.female.25.indUnk.Libra.xml': 0.9763987258452946,\n",
       "  '1011311.female.17.indUnk.Scorpio.xml': 0.9834878419305999,\n",
       "  '1013637.male.17.RealEstate.Virgo.xml': 0.9850438389507422,\n",
       "  '1015252.female.23.indUnk.Pisces.xml': 0.9827855153033251,\n",
       "  '1015556.male.34.Technology.Virgo.xml': 0.9819159763087922,\n",
       "  '1016560.male.41.Publishing.Sagittarius.xml': 0.9825961893665613},\n",
       " '1004904.male.23.Arts.Capricorn.xml': {'1000331.female.37.indUnk.Leo.xml': 1.0,\n",
       "  '1004904.male.23.Arts.Capricorn.xml': 0.0,\n",
       "  '1005076.female.25.Arts.Cancer.xml': 0.985052634162647,\n",
       "  '1005545.male.25.Engineering.Sagittarius.xml': 0.9782120311465031,\n",
       "  '1007188.male.48.Religion.Libra.xml': 0.9967018605987582,\n",
       "  '100812.female.26.Architecture.Aries.xml': 0.9784088426175234,\n",
       "  '1008329.female.16.Student.Pisces.xml': 0.9613061111616283,\n",
       "  '1009572.male.25.indUnk.Cancer.xml': 0.9974510687849324,\n",
       "  '1011153.female.27.Technology.Virgo.xml': 0.9944132334554562,\n",
       "  '1011289.female.25.indUnk.Libra.xml': 0.958145633657305,\n",
       "  '1011311.female.17.indUnk.Scorpio.xml': 0.9722861410953052,\n",
       "  '1013637.male.17.RealEstate.Virgo.xml': 0.9382930294125026,\n",
       "  '1015252.female.23.indUnk.Pisces.xml': 0.9370358556764453,\n",
       "  '1015556.male.34.Technology.Virgo.xml': 0.963730237806011,\n",
       "  '1016560.male.41.Publishing.Sagittarius.xml': 1.0},\n",
       " '1005076.female.25.Arts.Cancer.xml': {'1000331.female.37.indUnk.Leo.xml': 1.0,\n",
       "  '1004904.male.23.Arts.Capricorn.xml': 0.985052634162647,\n",
       "  '1005076.female.25.Arts.Cancer.xml': 1.1102230246251565e-16,\n",
       "  '1005545.male.25.Engineering.Sagittarius.xml': 0.9807272152874655,\n",
       "  '1007188.male.48.Religion.Libra.xml': 0.996825176843886,\n",
       "  '100812.female.26.Architecture.Aries.xml': 0.9852501555115676,\n",
       "  '1008329.female.16.Student.Pisces.xml': 0.9809801847174687,\n",
       "  '1009572.male.25.indUnk.Cancer.xml': 0.9901854896225534,\n",
       "  '1011153.female.27.Technology.Virgo.xml': 0.9892442412914735,\n",
       "  '1011289.female.25.indUnk.Libra.xml': 0.9633732303185483,\n",
       "  '1011311.female.17.indUnk.Scorpio.xml': 0.972819000461521,\n",
       "  '1013637.male.17.RealEstate.Virgo.xml': 0.9570133249448289,\n",
       "  '1015252.female.23.indUnk.Pisces.xml': 0.9700886022087193,\n",
       "  '1015556.male.34.Technology.Virgo.xml': 0.9834619558126461,\n",
       "  '1016560.male.41.Publishing.Sagittarius.xml': 0.9968168036693728},\n",
       " '1005545.male.25.Engineering.Sagittarius.xml': {'1000331.female.37.indUnk.Leo.xml': 0.9860537004037397,\n",
       "  '1004904.male.23.Arts.Capricorn.xml': 0.9782120311465031,\n",
       "  '1005076.female.25.Arts.Cancer.xml': 0.9807272152874655,\n",
       "  '1005545.male.25.Engineering.Sagittarius.xml': 0.0,\n",
       "  '1007188.male.48.Religion.Libra.xml': 0.9468432002302912,\n",
       "  '100812.female.26.Architecture.Aries.xml': 0.9614372520245664,\n",
       "  '1008329.female.16.Student.Pisces.xml': 0.9756476984184265,\n",
       "  '1009572.male.25.indUnk.Cancer.xml': 0.9855005922242712,\n",
       "  '1011153.female.27.Technology.Virgo.xml': 0.9862287053834197,\n",
       "  '1011289.female.25.indUnk.Libra.xml': 0.9136295945868169,\n",
       "  '1011311.female.17.indUnk.Scorpio.xml': 0.9613315617179525,\n",
       "  '1013637.male.17.RealEstate.Virgo.xml': 0.932260154232593,\n",
       "  '1015252.female.23.indUnk.Pisces.xml': 0.9150322667449085,\n",
       "  '1015556.male.34.Technology.Virgo.xml': 0.9038631094434402,\n",
       "  '1016560.male.41.Publishing.Sagittarius.xml': 0.9836973901406938},\n",
       " '1007188.male.48.Religion.Libra.xml': {'1000331.female.37.indUnk.Leo.xml': 1.0,\n",
       "  '1004904.male.23.Arts.Capricorn.xml': 0.9967018605987582,\n",
       "  '1005076.female.25.Arts.Cancer.xml': 0.996825176843886,\n",
       "  '1005545.male.25.Engineering.Sagittarius.xml': 0.9468432002302912,\n",
       "  '1007188.male.48.Religion.Libra.xml': 2.220446049250313e-16,\n",
       "  '100812.female.26.Architecture.Aries.xml': 0.9866859061507897,\n",
       "  '1008329.female.16.Student.Pisces.xml': 0.9886338664769717,\n",
       "  '1009572.male.25.indUnk.Cancer.xml': 0.9972930327881867,\n",
       "  '1011153.female.27.Technology.Virgo.xml': 0.997033424486558,\n",
       "  '1011289.female.25.indUnk.Libra.xml': 0.9725799315067053,\n",
       "  '1011311.female.17.indUnk.Scorpio.xml': 0.9844509434557264,\n",
       "  '1013637.male.17.RealEstate.Virgo.xml': 0.9752814660268021,\n",
       "  '1015252.female.23.indUnk.Pisces.xml': 0.9722107108017056,\n",
       "  '1015556.male.34.Technology.Virgo.xml': 0.9724288491079891,\n",
       "  '1016560.male.41.Publishing.Sagittarius.xml': 0.9894644059486777},\n",
       " '100812.female.26.Architecture.Aries.xml': {'1000331.female.37.indUnk.Leo.xml': 0.979839171567941,\n",
       "  '1004904.male.23.Arts.Capricorn.xml': 0.9784088426175234,\n",
       "  '1005076.female.25.Arts.Cancer.xml': 0.9852501555115676,\n",
       "  '1005545.male.25.Engineering.Sagittarius.xml': 0.9614372520245664,\n",
       "  '1007188.male.48.Religion.Libra.xml': 0.9866859061507897,\n",
       "  '100812.female.26.Architecture.Aries.xml': 0.0,\n",
       "  '1008329.female.16.Student.Pisces.xml': 0.9833828273514359,\n",
       "  '1009572.male.25.indUnk.Cancer.xml': 0.9839938733808054,\n",
       "  '1011153.female.27.Technology.Virgo.xml': 0.9824588258452714,\n",
       "  '1011289.female.25.indUnk.Libra.xml': 0.9516038678635668,\n",
       "  '1011311.female.17.indUnk.Scorpio.xml': 0.9641150240584123,\n",
       "  '1013637.male.17.RealEstate.Virgo.xml': 0.9453724165326911,\n",
       "  '1015252.female.23.indUnk.Pisces.xml': 0.958554143342383,\n",
       "  '1015556.male.34.Technology.Virgo.xml': 0.9530785135135802,\n",
       "  '1016560.male.41.Publishing.Sagittarius.xml': 0.9970335093324758},\n",
       " '1008329.female.16.Student.Pisces.xml': {'1000331.female.37.indUnk.Leo.xml': 0.9935006902442041,\n",
       "  '1004904.male.23.Arts.Capricorn.xml': 0.9613061111616283,\n",
       "  '1005076.female.25.Arts.Cancer.xml': 0.9809801847174687,\n",
       "  '1005545.male.25.Engineering.Sagittarius.xml': 0.9756476984184265,\n",
       "  '1007188.male.48.Religion.Libra.xml': 0.9886338664769717,\n",
       "  '100812.female.26.Architecture.Aries.xml': 0.9833828273514359,\n",
       "  '1008329.female.16.Student.Pisces.xml': 2.220446049250313e-16,\n",
       "  '1009572.male.25.indUnk.Cancer.xml': 0.9891886857287561,\n",
       "  '1011153.female.27.Technology.Virgo.xml': 0.9955569400630482,\n",
       "  '1011289.female.25.indUnk.Libra.xml': 0.9262231003966119,\n",
       "  '1011311.female.17.indUnk.Scorpio.xml': 0.9376216275452388,\n",
       "  '1013637.male.17.RealEstate.Virgo.xml': 0.9153393147004111,\n",
       "  '1015252.female.23.indUnk.Pisces.xml': 0.9464573419622772,\n",
       "  '1015556.male.34.Technology.Virgo.xml': 0.9629573045006353,\n",
       "  '1016560.male.41.Publishing.Sagittarius.xml': 0.9964935045566241},\n",
       " '1009572.male.25.indUnk.Cancer.xml': {'1000331.female.37.indUnk.Leo.xml': 1.0,\n",
       "  '1004904.male.23.Arts.Capricorn.xml': 0.9974510687849324,\n",
       "  '1005076.female.25.Arts.Cancer.xml': 0.9901854896225534,\n",
       "  '1005545.male.25.Engineering.Sagittarius.xml': 0.9855005922242712,\n",
       "  '1007188.male.48.Religion.Libra.xml': 0.9972930327881867,\n",
       "  '100812.female.26.Architecture.Aries.xml': 0.9839938733808054,\n",
       "  '1008329.female.16.Student.Pisces.xml': 0.9891886857287561,\n",
       "  '1009572.male.25.indUnk.Cancer.xml': 0.0,\n",
       "  '1011153.female.27.Technology.Virgo.xml': 0.9770731433449401,\n",
       "  '1011289.female.25.indUnk.Libra.xml': 0.9669861819527409,\n",
       "  '1011311.female.17.indUnk.Scorpio.xml': 0.9854080263560188,\n",
       "  '1013637.male.17.RealEstate.Virgo.xml': 0.9595717675200303,\n",
       "  '1015252.female.23.indUnk.Pisces.xml': 0.9765099136942643,\n",
       "  '1015556.male.34.Technology.Virgo.xml': 0.9799453510438894,\n",
       "  '1016560.male.41.Publishing.Sagittarius.xml': 0.9837153611296208},\n",
       " '1011153.female.27.Technology.Virgo.xml': {'1000331.female.37.indUnk.Leo.xml': 1.0,\n",
       "  '1004904.male.23.Arts.Capricorn.xml': 0.9944132334554562,\n",
       "  '1005076.female.25.Arts.Cancer.xml': 0.9892442412914735,\n",
       "  '1005545.male.25.Engineering.Sagittarius.xml': 0.9862287053834197,\n",
       "  '1007188.male.48.Religion.Libra.xml': 0.997033424486558,\n",
       "  '100812.female.26.Architecture.Aries.xml': 0.9824588258452714,\n",
       "  '1008329.female.16.Student.Pisces.xml': 0.9955569400630482,\n",
       "  '1009572.male.25.indUnk.Cancer.xml': 0.9770731433449401,\n",
       "  '1011153.female.27.Technology.Virgo.xml': 0.0,\n",
       "  '1011289.female.25.indUnk.Libra.xml': 0.9613754407018855,\n",
       "  '1011311.female.17.indUnk.Scorpio.xml': 0.9887119539232081,\n",
       "  '1013637.male.17.RealEstate.Virgo.xml': 0.9707876143927451,\n",
       "  '1015252.female.23.indUnk.Pisces.xml': 0.981612233124338,\n",
       "  '1015556.male.34.Technology.Virgo.xml': 0.9766484122320515,\n",
       "  '1016560.male.41.Publishing.Sagittarius.xml': 0.9881024021502022},\n",
       " '1011289.female.25.indUnk.Libra.xml': {'1000331.female.37.indUnk.Leo.xml': 0.9763987258452946,\n",
       "  '1004904.male.23.Arts.Capricorn.xml': 0.958145633657305,\n",
       "  '1005076.female.25.Arts.Cancer.xml': 0.9633732303185483,\n",
       "  '1005545.male.25.Engineering.Sagittarius.xml': 0.9136295945868169,\n",
       "  '1007188.male.48.Religion.Libra.xml': 0.9725799315067053,\n",
       "  '100812.female.26.Architecture.Aries.xml': 0.9516038678635668,\n",
       "  '1008329.female.16.Student.Pisces.xml': 0.9262231003966119,\n",
       "  '1009572.male.25.indUnk.Cancer.xml': 0.9669861819527409,\n",
       "  '1011153.female.27.Technology.Virgo.xml': 0.9613754407018855,\n",
       "  '1011289.female.25.indUnk.Libra.xml': -2.220446049250313e-16,\n",
       "  '1011311.female.17.indUnk.Scorpio.xml': 0.892644311407086,\n",
       "  '1013637.male.17.RealEstate.Virgo.xml': 0.8243512667136275,\n",
       "  '1015252.female.23.indUnk.Pisces.xml': 0.8622444082991712,\n",
       "  '1015556.male.34.Technology.Virgo.xml': 0.8895413136009702,\n",
       "  '1016560.male.41.Publishing.Sagittarius.xml': 0.9809000270665191},\n",
       " '1011311.female.17.indUnk.Scorpio.xml': {'1000331.female.37.indUnk.Leo.xml': 0.9834878419305999,\n",
       "  '1004904.male.23.Arts.Capricorn.xml': 0.9722861410953052,\n",
       "  '1005076.female.25.Arts.Cancer.xml': 0.972819000461521,\n",
       "  '1005545.male.25.Engineering.Sagittarius.xml': 0.9613315617179525,\n",
       "  '1007188.male.48.Religion.Libra.xml': 0.9844509434557264,\n",
       "  '100812.female.26.Architecture.Aries.xml': 0.9641150240584123,\n",
       "  '1008329.female.16.Student.Pisces.xml': 0.9376216275452388,\n",
       "  '1009572.male.25.indUnk.Cancer.xml': 0.9854080263560188,\n",
       "  '1011153.female.27.Technology.Virgo.xml': 0.9887119539232081,\n",
       "  '1011289.female.25.indUnk.Libra.xml': 0.892644311407086,\n",
       "  '1011311.female.17.indUnk.Scorpio.xml': -2.220446049250313e-16,\n",
       "  '1013637.male.17.RealEstate.Virgo.xml': 0.8611946256990689,\n",
       "  '1015252.female.23.indUnk.Pisces.xml': 0.9182164366225436,\n",
       "  '1015556.male.34.Technology.Virgo.xml': 0.9295455124146201,\n",
       "  '1016560.male.41.Publishing.Sagittarius.xml': 0.9944321196013334},\n",
       " '1013637.male.17.RealEstate.Virgo.xml': {'1000331.female.37.indUnk.Leo.xml': 0.9850438389507422,\n",
       "  '1004904.male.23.Arts.Capricorn.xml': 0.9382930294125026,\n",
       "  '1005076.female.25.Arts.Cancer.xml': 0.9570133249448289,\n",
       "  '1005545.male.25.Engineering.Sagittarius.xml': 0.932260154232593,\n",
       "  '1007188.male.48.Religion.Libra.xml': 0.9752814660268021,\n",
       "  '100812.female.26.Architecture.Aries.xml': 0.9453724165326911,\n",
       "  '1008329.female.16.Student.Pisces.xml': 0.9153393147004111,\n",
       "  '1009572.male.25.indUnk.Cancer.xml': 0.9595717675200303,\n",
       "  '1011153.female.27.Technology.Virgo.xml': 0.9707876143927451,\n",
       "  '1011289.female.25.indUnk.Libra.xml': 0.8243512667136275,\n",
       "  '1011311.female.17.indUnk.Scorpio.xml': 0.8611946256990689,\n",
       "  '1013637.male.17.RealEstate.Virgo.xml': 2.220446049250313e-16,\n",
       "  '1015252.female.23.indUnk.Pisces.xml': 0.8643884688708465,\n",
       "  '1015556.male.34.Technology.Virgo.xml': 0.8804876788193696,\n",
       "  '1016560.male.41.Publishing.Sagittarius.xml': 0.9890490513799324},\n",
       " '1015252.female.23.indUnk.Pisces.xml': {'1000331.female.37.indUnk.Leo.xml': 0.9827855153033251,\n",
       "  '1004904.male.23.Arts.Capricorn.xml': 0.9370358556764453,\n",
       "  '1005076.female.25.Arts.Cancer.xml': 0.9700886022087193,\n",
       "  '1005545.male.25.Engineering.Sagittarius.xml': 0.9150322667449085,\n",
       "  '1007188.male.48.Religion.Libra.xml': 0.9722107108017056,\n",
       "  '100812.female.26.Architecture.Aries.xml': 0.958554143342383,\n",
       "  '1008329.female.16.Student.Pisces.xml': 0.9464573419622772,\n",
       "  '1009572.male.25.indUnk.Cancer.xml': 0.9765099136942643,\n",
       "  '1011153.female.27.Technology.Virgo.xml': 0.981612233124338,\n",
       "  '1011289.female.25.indUnk.Libra.xml': 0.8622444082991712,\n",
       "  '1011311.female.17.indUnk.Scorpio.xml': 0.9182164366225436,\n",
       "  '1013637.male.17.RealEstate.Virgo.xml': 0.8643884688708465,\n",
       "  '1015252.female.23.indUnk.Pisces.xml': 0.0,\n",
       "  '1015556.male.34.Technology.Virgo.xml': 0.8693158530396867,\n",
       "  '1016560.male.41.Publishing.Sagittarius.xml': 0.9843272988857742},\n",
       " '1015556.male.34.Technology.Virgo.xml': {'1000331.female.37.indUnk.Leo.xml': 0.9819159763087922,\n",
       "  '1004904.male.23.Arts.Capricorn.xml': 0.963730237806011,\n",
       "  '1005076.female.25.Arts.Cancer.xml': 0.9834619558126461,\n",
       "  '1005545.male.25.Engineering.Sagittarius.xml': 0.9038631094434402,\n",
       "  '1007188.male.48.Religion.Libra.xml': 0.9724288491079891,\n",
       "  '100812.female.26.Architecture.Aries.xml': 0.9530785135135802,\n",
       "  '1008329.female.16.Student.Pisces.xml': 0.9629573045006353,\n",
       "  '1009572.male.25.indUnk.Cancer.xml': 0.9799453510438894,\n",
       "  '1011153.female.27.Technology.Virgo.xml': 0.9766484122320515,\n",
       "  '1011289.female.25.indUnk.Libra.xml': 0.8895413136009702,\n",
       "  '1011311.female.17.indUnk.Scorpio.xml': 0.9295455124146201,\n",
       "  '1013637.male.17.RealEstate.Virgo.xml': 0.8804876788193696,\n",
       "  '1015252.female.23.indUnk.Pisces.xml': 0.8693158530396867,\n",
       "  '1015556.male.34.Technology.Virgo.xml': 2.220446049250313e-16,\n",
       "  '1016560.male.41.Publishing.Sagittarius.xml': 0.9886172315887849},\n",
       " '1016560.male.41.Publishing.Sagittarius.xml': {'1000331.female.37.indUnk.Leo.xml': 0.9825961893665613,\n",
       "  '1004904.male.23.Arts.Capricorn.xml': 1.0,\n",
       "  '1005076.female.25.Arts.Cancer.xml': 0.9968168036693728,\n",
       "  '1005545.male.25.Engineering.Sagittarius.xml': 0.9836973901406938,\n",
       "  '1007188.male.48.Religion.Libra.xml': 0.9894644059486777,\n",
       "  '100812.female.26.Architecture.Aries.xml': 0.9970335093324758,\n",
       "  '1008329.female.16.Student.Pisces.xml': 0.9964935045566241,\n",
       "  '1009572.male.25.indUnk.Cancer.xml': 0.9837153611296208,\n",
       "  '1011153.female.27.Technology.Virgo.xml': 0.9881024021502022,\n",
       "  '1011289.female.25.indUnk.Libra.xml': 0.9809000270665191,\n",
       "  '1011311.female.17.indUnk.Scorpio.xml': 0.9944321196013334,\n",
       "  '1013637.male.17.RealEstate.Virgo.xml': 0.9890490513799324,\n",
       "  '1015252.female.23.indUnk.Pisces.xml': 0.9843272988857742,\n",
       "  '1015556.male.34.Technology.Virgo.xml': 0.9886172315887849,\n",
       "  '1016560.male.41.Publishing.Sagittarius.xml': 0.0}}"
      ]
     },
     "execution_count": 22,
     "metadata": {},
     "output_type": "execute_result"
    }
   ],
   "source": [
    "testDict"
   ]
  },
  {
   "cell_type": "code",
   "execution_count": 23,
   "metadata": {
    "scrolled": false
   },
   "outputs": [],
   "source": [
    "# # (This step scales really badly)\n",
    "\n",
    "# similarityDict = {}\n",
    "# for person in tdm:\n",
    "#     similarityDict[person] = {}\n",
    "    \n",
    "# for ind in range(len(keys)):\n",
    "#     for i in range(len(keys)):\n",
    "#         dist = cosDist(tdm[keys[ind]], tdm[keys[i]])\n",
    "#         similarityDict[keys[ind]][keys[i]] = ((dist < .0003) and (dist > .000000001))\n",
    "# #         if ((dist < .00007) and (dist > .000000001)):\n",
    "# #             print(dist)\n",
    "# #             print(i)\n",
    "# #             print(ind)\n",
    "\n",
    "similarityDict = {person:{relation:cosDist(tdm[person], tdm[relation]) for relation in tdm} for person in tdm}"
   ]
  },
  {
   "cell_type": "code",
   "execution_count": 24,
   "metadata": {},
   "outputs": [],
   "source": [
    "similarityFrame = pd.DataFrame(similarityDict)"
   ]
  },
  {
   "cell_type": "code",
   "execution_count": 25,
   "metadata": {
    "scrolled": true
   },
   "outputs": [
    {
     "name": "stdout",
     "output_type": "stream",
     "text": [
      "1.0\n",
      "0.0\n",
      "0.985052634162647\n",
      "0.9782120311465031\n",
      "0.9967018605987582\n",
      "0.9784088426175234\n",
      "0.9613061111616283\n",
      "0.9974510687849324\n",
      "0.9944132334554562\n",
      "0.958145633657305\n",
      "0.9722861410953052\n",
      "0.9382930294125026\n",
      "0.9370358556764453\n",
      "0.963730237806011\n",
      "1.0\n"
     ]
    }
   ],
   "source": [
    "person = similarityFrame[\"1004904.male.23.Arts.Capricorn.xml\"]\n",
    "for p in person.keys():\n",
    "    print(person[p])"
   ]
  },
  {
   "cell_type": "code",
   "execution_count": 26,
   "metadata": {},
   "outputs": [],
   "source": [
    "# similarityFrame.to_json(path_or_buf=\"./similarity.json\")"
   ]
  },
  {
   "cell_type": "code",
   "execution_count": 27,
   "metadata": {},
   "outputs": [],
   "source": [
    "# similarityFrame = similarityFrame.transpose()\n",
    "# similarityFrame.to_csv(path_or_buf=\"./similarity.csv\", index_label=\"person\", na_rep=\"undefined\")"
   ]
  },
  {
   "cell_type": "code",
   "execution_count": 28,
   "metadata": {},
   "outputs": [],
   "source": [
    "file = open(\"writeTest.json\", \"w\")\n",
    "file.write(\"{\")\n",
    "file.write('\"nodes\":[')\n",
    "for i in range(len(tdm.keys())-1):\n",
    "    file.write('{\"id\": \"'+tdm.keys()[i]+'\", \"group\":'+ occupationDict[occupations[i]] +'},')\n",
    "file.write('{\"id\": \"'+tdm.keys()[len(tdm.keys())-1]+'\", \"group\": 1'+ occupationDict[occupations[i]] +'}')\n",
    "file.write(\"],\")\n",
    "\n",
    "file.write('\"links\":[')\n",
    "for person in similarityFrame:\n",
    "    for relation in similarityFrame[person].keys():\n",
    "        if similarityFrame[person][relation]:\n",
    "            file.write('{\"source\": \"'+person+'\", \"target\": \"'+relation+'\", \"value\": 1}, \\n')\n",
    "file.write(\"]\")\n",
    "file.write(\"}\")\n",
    "file.close()"
   ]
  },
  {
   "cell_type": "code",
   "execution_count": null,
   "metadata": {},
   "outputs": [],
   "source": []
  }
 ],
 "metadata": {
  "kernelspec": {
   "display_name": "Python 3",
   "language": "python",
   "name": "python3"
  },
  "language_info": {
   "codemirror_mode": {
    "name": "ipython",
    "version": 3
   },
   "file_extension": ".py",
   "mimetype": "text/x-python",
   "name": "python",
   "nbconvert_exporter": "python",
   "pygments_lexer": "ipython3",
   "version": "3.6.5"
  }
 },
 "nbformat": 4,
 "nbformat_minor": 2
}
