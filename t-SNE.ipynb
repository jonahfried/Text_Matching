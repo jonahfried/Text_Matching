{
 "cells": [
  {
   "cell_type": "code",
   "execution_count": 1,
   "metadata": {},
   "outputs": [],
   "source": [
    "import pandas as pd\n",
    "import math\n",
    "import pandas as pd\n",
    "import math"
   ]
  },
  {
   "cell_type": "code",
   "execution_count": 2,
   "metadata": {},
   "outputs": [],
   "source": [
    "similarity_matrix = pd.read_csv(\"similarity.csv\", index_col=0).transpose()"
   ]
  },
  {
   "cell_type": "code",
   "execution_count": 3,
   "metadata": {},
   "outputs": [],
   "source": [
    "def magnitude(series):\n",
    "    return math.sqrt(sum(map(lambda x:x**2, series)))"
   ]
  },
  {
   "cell_type": "code",
   "execution_count": 36,
   "metadata": {},
   "outputs": [
    {
     "data": {
      "text/plain": [
       "14.142135623730951"
      ]
     },
     "execution_count": 36,
     "metadata": {},
     "output_type": "execute_result"
    }
   ],
   "source": [
    "magnitude([10, 10])"
   ]
  },
  {
   "cell_type": "code",
   "execution_count": 4,
   "metadata": {},
   "outputs": [],
   "source": [
    "def conditional_probability(i, j, gaussian, similarity_matrix):\n",
    "    numerator = math.exp(-(magnitude(similarity_matrix[similarity_matrix.columns[i]]-similarity_matrix[similarity_matrix.columns[j]])**2)/(2*(gaussian**2)))\n",
    "    denominator = sum([\n",
    "        math.exp(-(magnitude(similarity_matrix[similarity_matrix.columns[i]] - similarity_matrix[similarity_matrix.columns[k]])**2)/(2*(gaussian**2))) \n",
    "        for k \n",
    "        in range(len(similarity_matrix.columns)) \n",
    "        if k != i\n",
    "    ])\n",
    "    return numerator/denominator"
   ]
  },
  {
   "cell_type": "code",
   "execution_count": 53,
   "metadata": {},
   "outputs": [
    {
     "name": "stdout",
     "output_type": "stream",
     "text": [
      "0.017186488049171524\n"
     ]
    }
   ],
   "source": [
    "# for i in range(len(similarity_matrix.columns)):\n",
    "print(conditional_probability(1, 1, 10, similarity_matrix))"
   ]
  },
  {
   "cell_type": "code",
   "execution_count": 40,
   "metadata": {},
   "outputs": [
    {
     "data": {
      "text/plain": [
       "The Seller Rekbes25518686572          0.904534\n",
       "The Seller Rekbes26843746703          0.000000\n",
       "The Seller Rekbes26574419155          0.000000\n",
       "The Seller Rekbes25390605165          0.000000\n",
       "The Seller Rekbes26296537492          0.000000\n",
       "The Seller Rekbes26582263632          0.000000\n",
       "The Seller Rekbes26303651904          0.000000\n",
       "The Seller Rekbes25622366390          0.000000\n",
       "The Seller Rekbes25390640704          0.000000\n",
       "The Seller Rekbes25882945930          0.000000\n",
       "The Seller Rekbes25882297341          0.000000\n",
       "The Seller Rekbes27547242603          0.000000\n",
       "The Seller Rekbes27129734321          0.000000\n",
       "The Seller Rekbes27152854925          0.000000\n",
       "The Seller Rekbes27752136288          0.000000\n",
       "The Seller Rekbes25882518529          0.000000\n",
       "The Seller Rekbes25883021019          0.000000\n",
       "The Seller Rekbes26064466039          0.000000\n",
       "Joel Carlson30333104258289664         0.000000\n",
       "Joel Carlson70971882698051584         0.000000\n",
       "The Seller Rekbes35316972560322560    0.000000\n",
       "The Seller Rekbes30711208751398912    0.000000\n",
       "The Seller Rekbes32493797229199360    0.000000\n",
       "The Seller Rekbes33671490113118208    0.000000\n",
       "The Seller Rekbes33659032602415105    0.000000\n",
       "The Seller Rekbes26660140023291904    0.000000\n",
       "The Seller Rekbes28865572674473984    0.000000\n",
       "The Seller Rekbes28607491294101504    0.000000\n",
       "The Seller Rekbes11738989950140416    0.000000\n",
       "The Seller Rekbes24263166217162752    0.000000\n",
       "The Seller Rekbes11722303549210624    0.000000\n",
       "The Seller Rekbes28601466377732096    0.000000\n",
       "Joel Carlson48890744743804928         0.000000\n",
       "Joel Carlson65192231396589568         0.000000\n",
       "Joel Carlson57801783904448512         0.000000\n",
       "Joel Carlson36211806150066176         0.000000\n",
       "Joel Carlson53885946046849024         0.000000\n",
       "Joel Carlson61504763694546944         0.000000\n",
       "Joel Carlson60755207432314880         0.000000\n",
       "lydia maniz53774998405525504         -0.925820\n",
       "Ben Estelle83178797934968833          0.000000\n",
       "Stephen E. Monday25146458775          0.000000\n",
       "lydia maniz53774691210493952          0.000000\n",
       "lydia maniz59559872018124800          0.000000\n",
       "Lisa White81145962441080832           0.000000\n",
       "stephen balenger91294062182805504     0.000000\n",
       "Ƙ1ƝĢ ƘƝ❂❎85601814803775488            0.000000\n",
       "Ƙ1ƝĢ ƘƝ❂❎85598488724905984            0.000000\n",
       "Ƙ1ƝĢ ƘƝ❂❎85598330129891328            0.000000\n",
       "Ƙ1ƝĢ ƘƝ❂❎85594440219099136            0.000000\n",
       "Ƙ1ƝĢ ƘƝ❂❎85598133177946113            0.000000\n",
       "Ƙ1ƝĢ ƘƝ❂❎85586086851649536            0.000000\n",
       "Ƙ1ƝĢ ƘƝ❂❎85590033561694208            0.000000\n",
       "Ƙ1ƝĢ ƘƝ❂❎85591032359698432            0.000000\n",
       "Ƙ1ƝĢ ƘƝ❂❎85592479373606912            0.000000\n",
       "Ƙ1ƝĢ ƘƝ❂❎85591823694831616            0.000000\n",
       "Ƙ1ƝĢ ƘƝ❂❎85589281564921856            0.000000\n",
       "Ƙ1ƝĢ ƘƝ❂❎86340501292318720            0.000000\n",
       "Ƙ1ƝĢ ƘƝ❂❎86340365132640256            0.000000\n",
       "Ƙ1ƝĢ ƘƝ❂❎80779576548130816            0.000000\n",
       "dtype: float64"
      ]
     },
     "execution_count": 40,
     "metadata": {},
     "output_type": "execute_result"
    }
   ],
   "source": [
    "# for i in range(len(similarity_matrix.columns)):\n",
    "#     for j in range(len(similarity_matrix.columns)):\n",
    "#         print(conditional_probability(i, j, 20, similarity_matrix))\n",
    "\n",
    "# print(conditional_probability(1, 1, 20, similarity_matrix))\n",
    "\n",
    "# math.exp(-(magnitude(similarity_matrix[similarity_matrix.columns[0]]-similarity_matrix[similarity_matrix.columns[29]])**2)/(2*(10**2)))\n",
    "\n",
    "# sum([\n",
    "#         math.exp(-(magnitude(similarity_matrix[similarity_matrix.columns[29]] - similarity_matrix[similarity_matrix.columns[k]])**2)/(2*(10**2))) \n",
    "#         for k \n",
    "#         in range(len(similarity_matrix.columns)) \n",
    "#         if k != 29\n",
    "#     ])"
   ]
  },
  {
   "cell_type": "code",
   "execution_count": 6,
   "metadata": {},
   "outputs": [],
   "source": [
    "def H(i, gaussian, similarity_matrix):\n",
    "    sumation = sum([\n",
    "        conditional_probability(i, j, gaussian, similarity_matrix)*math.log(conditional_probability(i, j, gaussian, similarity_matrix), 2) \n",
    "        for j \n",
    "        in range(len(similarity_matrix.columns))\n",
    "        if (j != i) and (conditional_probability(i, j, gaussian, similarity_matrix) != 0)\n",
    "    ])\n",
    "    return -sumation\n",
    "\n",
    "def perp(i, gaussian, similarity_matrix):\n",
    "    return 2**H(i, gaussian, similarity_matrix)"
   ]
  },
  {
   "cell_type": "code",
   "execution_count": 45,
   "metadata": {},
   "outputs": [],
   "source": [
    "personal_info = {person:{} for person in similarity_matrix}\n",
    "def find_gaussian(i, perplexity, similarity_matrix): #, personal_info):\n",
    "    gaussianUpper = 10000\n",
    "    gaussianLower = 0\n",
    "    for t in range(13):\n",
    "        gauss = (gaussianUpper+gaussianLower)/2\n",
    "        p = perp(i, gauss, similarity_matrix)\n",
    "        if (math.sqrt((perplexity - p)**2) < 1):\n",
    "            return gaussian\n",
    "        elif p > perplexity:\n",
    "            gaussianLower = gauss\n",
    "        else:\n",
    "            gaussianUpper = gauss\n",
    "    return gauss"
   ]
  },
  {
   "cell_type": "code",
   "execution_count": 49,
   "metadata": {},
   "outputs": [
    {
     "data": {
      "text/plain": [
       "9998.779296875"
      ]
     },
     "execution_count": 49,
     "metadata": {},
     "output_type": "execute_result"
    }
   ],
   "source": [
    "find_gaussian(0, 50, similarity_matrix)\n",
    "# H(0, 100, similarity_matrix)"
   ]
  },
  {
   "cell_type": "code",
   "execution_count": 11,
   "metadata": {},
   "outputs": [],
   "source": [
    "PERPLEXITY = 20"
   ]
  },
  {
   "cell_type": "code",
   "execution_count": 10,
   "metadata": {},
   "outputs": [],
   "source": [
    "# def p_vals(gaussian, similarity_matrix):\n",
    "#     return math.e ** (similarity_matrix)\n",
    "\n",
    "# p_vals(1, similarity_matrix)\n",
    "\n",
    "# def Perp(Pi):\n",
    "#     2**H(Pi)\n",
    "    \n",
    "# def H(Pi):\n",
    "#     -sum(Pi|j * log2(Pi|j))\n"
   ]
  }
 ],
 "metadata": {
  "kernelspec": {
   "display_name": "Python 3",
   "language": "python",
   "name": "python3"
  },
  "language_info": {
   "codemirror_mode": {
    "name": "ipython",
    "version": 3
   },
   "file_extension": ".py",
   "mimetype": "text/x-python",
   "name": "python",
   "nbconvert_exporter": "python",
   "pygments_lexer": "ipython3",
   "version": "3.6.5"
  }
 },
 "nbformat": 4,
 "nbformat_minor": 2
}
