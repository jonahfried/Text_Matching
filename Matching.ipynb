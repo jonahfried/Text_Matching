{
 "cells": [
  {
   "cell_type": "code",
   "execution_count": 1,
   "metadata": {},
   "outputs": [],
   "source": [
    "import os, math\n",
    "import pandas as pd"
   ]
  },
  {
   "cell_type": "code",
   "execution_count": 2,
   "metadata": {
    "scrolled": true
   },
   "outputs": [],
   "source": [
    "blogPath = \"./blogs/\"\n",
    "pathList = os.listdir(path=blogPath)\n",
    "blogSampleSize = 15"
   ]
  },
  {
   "cell_type": "code",
   "execution_count": 3,
   "metadata": {},
   "outputs": [
    {
     "data": {
      "text/plain": [
       "['1000331', 'female', '37', 'indUnk', 'Leo', 'xml']"
      ]
     },
     "execution_count": 3,
     "metadata": {},
     "output_type": "execute_result"
    }
   ],
   "source": [
    "pathList[0].split(\".\")"
   ]
  },
  {
   "cell_type": "code",
   "execution_count": 4,
   "metadata": {},
   "outputs": [],
   "source": [
    "def getOccupation(lst):\n",
    "    rtrn = []\n",
    "    for person in lst:\n",
    "        rtrn.append(person.split(\".\")[3])\n",
    "    return rtrn\n",
    "\n",
    "occupations = getOccupation(pathList)[:blogSampleSize]\n",
    "occupationDict = {}\n",
    "occupationCounter = 0\n",
    "for occ in occupations:\n",
    "    if occ not in occupationDict:\n",
    "        occupationDict[occ] = str(occupationCounter)\n",
    "        occupationCounter += 1"
   ]
  },
  {
   "cell_type": "code",
   "execution_count": 5,
   "metadata": {
    "scrolled": true
   },
   "outputs": [],
   "source": [
    "blogs = []\n",
    "for ind in range(blogSampleSize):\n",
    "    file = open(blogPath+pathList[ind], \"rb\")\n",
    "    posts = []\n",
    "    for line in file:\n",
    "        text = line.decode(\"utf-8\", errors=\"ignore\")\n",
    "        text = text.strip()\n",
    "        if text != \"\" and text[0] != \"<\":\n",
    "            posts.append(text)\n",
    "    blogs.append(\" \".join(posts))\n",
    "    file.close()\n"
   ]
  },
  {
   "cell_type": "code",
   "execution_count": 6,
   "metadata": {},
   "outputs": [],
   "source": [
    "# splits up a string into a list of words.\n",
    "# str -> [str]\n",
    "def getWords(str):\n",
    "    words = []\n",
    "    \n",
    "    str = str+\".\"\n",
    "    lastInd = 0\n",
    "    for ind in range(len(str)):\n",
    "        if not (str[ind].isalpha()):\n",
    "            if lastInd == ind:\n",
    "                lastInd += 1\n",
    "                continue\n",
    "            else:\n",
    "                words.append(str[lastInd:ind].lower())\n",
    "                lastInd = ind+1\n",
    "    \n",
    "    return words\n",
    "            "
   ]
  },
  {
   "cell_type": "code",
   "execution_count": 7,
   "metadata": {},
   "outputs": [],
   "source": [
    "dicts = []\n",
    "allWordsSeen = {}\n",
    "for blog in blogs:\n",
    "    newDict = {}\n",
    "    dicts.append(newDict)\n",
    "    wordList = getWords(blog)\n",
    "    for word in wordList:\n",
    "#         ADD TO THIS PERSON'S DICT\n",
    "        if word not in newDict:\n",
    "            newDict[word] = 1\n",
    "        else:\n",
    "            newDict[word] += 1\n",
    "#         ADD TO ALL WORDS SEEN\n",
    "        if word not in allWordsSeen:\n",
    "            allWordsSeen[word] = 1\n",
    "        else:\n",
    "            allWordsSeen[word] += 1\n",
    "\n"
   ]
  },
  {
   "cell_type": "code",
   "execution_count": 8,
   "metadata": {},
   "outputs": [],
   "source": [
    "totalPeople = len(dicts)\n",
    "testWordList = [word for word in allWordsSeen if ((allWordsSeen[word]/totalPeople > .50) or (allWordsSeen[word]/totalPeople < .01))]\n",
    "wordsToRemove = []\n",
    "for word in allWordsSeen:\n",
    "    count = allWordsSeen[word]\n",
    "    \n",
    "    if ((count / totalPeople) > .50) or ((count / totalPeople) < .01):\n",
    "#         print(word)\n",
    "#         del allWordsSeen[word]\n",
    "        wordsToRemove.append(word)\n",
    "        for person in dicts:\n",
    "            if word in person:\n",
    "                del person[word]\n",
    "    else:\n",
    "        for person in dicts:\n",
    "            if word not in person:\n",
    "                person[word] = 0\n",
    "\n",
    "for word in wordsToRemove:\n",
    "    del allWordsSeen[word]"
   ]
  },
  {
   "cell_type": "code",
   "execution_count": 9,
   "metadata": {},
   "outputs": [
    {
     "name": "stdout",
     "output_type": "stream",
     "text": [
      "[]\n"
     ]
    }
   ],
   "source": [
    "print([word for word in testWordList if word not in wordsToRemove])"
   ]
  },
  {
   "cell_type": "code",
   "execution_count": null,
   "metadata": {},
   "outputs": [],
   "source": []
  },
  {
   "cell_type": "code",
   "execution_count": 10,
   "metadata": {},
   "outputs": [],
   "source": [
    "dictOfDicts = {}\n",
    "for ind in range(blogSampleSize):\n",
    "    dictOfDicts[pathList[ind]] = dicts[ind]"
   ]
  },
  {
   "cell_type": "code",
   "execution_count": 11,
   "metadata": {
    "scrolled": false
   },
   "outputs": [],
   "source": [
    "tdm = pd.DataFrame(dictOfDicts, dtype=float)\n",
    "# tdm = tdm.transpose()\n",
    "# tdm"
   ]
  },
  {
   "cell_type": "code",
   "execution_count": 12,
   "metadata": {},
   "outputs": [],
   "source": [
    "def termFrequency(person):\n",
    "    return .5 + (.5*person/person.max())"
   ]
  },
  {
   "cell_type": "code",
   "execution_count": 37,
   "metadata": {},
   "outputs": [
    {
     "data": {
      "text/plain": [
       "'mpho'"
      ]
     },
     "execution_count": 37,
     "metadata": {},
     "output_type": "execute_result"
    }
   ],
   "source": [
    "for word in allWordsSeen:\n",
    "    word\n",
    "#     personCount = 0\n",
    "#     for person in tdm:\n",
    "#         print(tdm[person][word])\n"
   ]
  },
  {
   "cell_type": "code",
   "execution_count": 43,
   "metadata": {},
   "outputs": [
    {
     "data": {
      "text/plain": [
       "1.354025100551105"
      ]
     },
     "execution_count": 43,
     "metadata": {},
     "output_type": "execute_result"
    }
   ],
   "source": [
    "tdm['1000331.female.37.indUnk.Leo.xml'][\"aa\"]"
   ]
  },
  {
   "cell_type": "code",
   "execution_count": 14,
   "metadata": {},
   "outputs": [],
   "source": [
    "# (This step scales really badly)\n",
    "\n",
    "IDF_Dict = {}\n",
    "for word in allWordsSeen:\n",
    "    personCount = 0\n",
    "    for person in tdm:\n",
    "        if tdm[person][word] > 0:\n",
    "            personCount += 1\n",
    "    if personCount > 0:\n",
    "        IDF_Dict[word] = math.log(blogSampleSize / personCount)"
   ]
  },
  {
   "cell_type": "code",
   "execution_count": 15,
   "metadata": {},
   "outputs": [],
   "source": [
    "# IDF_Dict"
   ]
  },
  {
   "cell_type": "code",
   "execution_count": 16,
   "metadata": {},
   "outputs": [],
   "source": [
    "for person in tdm:\n",
    "    tdm[person] = termFrequency(tdm[person])\n",
    "    for i in range(len(person)):\n",
    "        tdm[person][i] = tdm[person][i] * IDF_Dict[tdm[person].keys()[i]]"
   ]
  },
  {
   "cell_type": "code",
   "execution_count": 17,
   "metadata": {},
   "outputs": [],
   "source": [
    "# tdm['1000331.female.37.indUnk.Leo.xml']"
   ]
  },
  {
   "cell_type": "code",
   "execution_count": 18,
   "metadata": {},
   "outputs": [],
   "source": [
    "# cosDist = sum(ser1*ser2)/(sqrt(sum(ser1^2)) * sqrt(sum(ser2^2)))\n",
    "# def cosDist(ser1, ser2):\n",
    "#     numerator = ser1.dot(ser2)\n",
    "#     ser1Denominator = 0\n",
    "#     for val in ser1:\n",
    "#         ser1Denominator += math.pow(val, 2)\n",
    "#     ser1Denominator = math.sqrt(ser1Denominator)\n",
    "#     ser2Denominator = 0\n",
    "#     for val in ser2:\n",
    "#         ser2Denominator += math.pow(val, 2)\n",
    "#     ser2Denominator = math.sqrt(ser2Denominator)\n",
    "#     return 1 - numerator/(ser1Denominator*ser2Denominator)\n",
    "\n",
    "def cosDist(ser1, ser2):\n",
    "    numerator = ser1.dot(ser2)\n",
    "    # ser1Denominator = itertools.accumulate(ser1, )\n",
    "    # for val in ser1:\n",
    "    #     ser1Denominator += math.pow(val, 2)\n",
    "    ser1Denominator = math.sqrt(sum(map((lambda x: x**2), ser1)))\n",
    "    ser2Denominator = math.sqrt(sum(map((lambda x: x**2), ser2)))\n",
    "    # ser2Denominator = 0\n",
    "    # for val in ser2:\n",
    "    #     ser2Denominator += math.pow(val, 2)\n",
    "    # ser2Denominator = math.sqrt(ser2Denominator)\n",
    "    return 1 - numerator/(ser1Denominator*ser2Denominator)"
   ]
  },
  {
   "cell_type": "code",
   "execution_count": 19,
   "metadata": {},
   "outputs": [
    {
     "data": {
      "text/plain": [
       "5200.214858220349"
      ]
     },
     "execution_count": 19,
     "metadata": {},
     "output_type": "execute_result"
    }
   ],
   "source": [
    "# cosDist(tdm['1000331.female.37.indUnk.Leo.xml'], tdm['1008329.female.16.Student.Pisces.xml'])\n",
    "pt1 = math.sqrt(sum(map((lambda x: x**2), tdm['1000331.female.37.indUnk.Leo.xml'])))\n",
    "pt2 = math.sqrt(sum(map((lambda x: x**2), tdm['1011153.female.27.Technology.Virgo.xml'])))\n",
    "pt1*pt2"
   ]
  },
  {
   "cell_type": "code",
   "execution_count": 20,
   "metadata": {},
   "outputs": [],
   "source": [
    "testDict = {person:{relation:cosDist(tdm[person], tdm[relation]) for relation in tdm} for person in tdm}"
   ]
  },
  {
   "cell_type": "code",
   "execution_count": 21,
   "metadata": {},
   "outputs": [
    {
     "data": {
      "text/plain": [
       "{'1000331.female.37.indUnk.Leo.xml': {'1000331.female.37.indUnk.Leo.xml': 0.0,\n",
       "  '1004904.male.23.Arts.Capricorn.xml': 0.001644971408827578,\n",
       "  '1005076.female.25.Arts.Cancer.xml': 0.000968370046665501,\n",
       "  '1005545.male.25.Engineering.Sagittarius.xml': 0.003048508785510995,\n",
       "  '1007188.male.48.Religion.Libra.xml': 0.0010791409578410072,\n",
       "  '100812.female.26.Architecture.Aries.xml': 0.0023658646419862928,\n",
       "  '1008329.female.16.Student.Pisces.xml': 0.0018483481955245962,\n",
       "  '1009572.male.25.indUnk.Cancer.xml': 0.0009878044186131252,\n",
       "  '1011153.female.27.Technology.Virgo.xml': 0.001109761782817853,\n",
       "  '1011289.female.25.indUnk.Libra.xml': 0.007654286360180507,\n",
       "  '1011311.female.17.indUnk.Scorpio.xml': 0.00323296264804529,\n",
       "  '1013637.male.17.RealEstate.Virgo.xml': 0.007745174616871742,\n",
       "  '1015252.female.23.indUnk.Pisces.xml': 0.004287016893766871,\n",
       "  '1015556.male.34.Technology.Virgo.xml': 0.005039494657689381,\n",
       "  '1016560.male.41.Publishing.Sagittarius.xml': 0.0011496090243836576},\n",
       " '1004904.male.23.Arts.Capricorn.xml': {'1000331.female.37.indUnk.Leo.xml': 0.001644971408827578,\n",
       "  '1004904.male.23.Arts.Capricorn.xml': 2.220446049250313e-16,\n",
       "  '1005076.female.25.Arts.Cancer.xml': 0.0013444824067969652,\n",
       "  '1005545.male.25.Engineering.Sagittarius.xml': 0.003331567029826732,\n",
       "  '1007188.male.48.Religion.Libra.xml': 0.0013272713147070014,\n",
       "  '100812.female.26.Architecture.Aries.xml': 0.002642890474882198,\n",
       "  '1008329.female.16.Student.Pisces.xml': 0.002064455859779324,\n",
       "  '1009572.male.25.indUnk.Cancer.xml': 0.0013737672476210605,\n",
       "  '1011153.female.27.Technology.Virgo.xml': 0.0013525806853393885,\n",
       "  '1011289.female.25.indUnk.Libra.xml': 0.008007905104850388,\n",
       "  '1011311.female.17.indUnk.Scorpio.xml': 0.003526530339388656,\n",
       "  '1013637.male.17.RealEstate.Virgo.xml': 0.007947904594913124,\n",
       "  '1015252.female.23.indUnk.Pisces.xml': 0.0044990142025892466,\n",
       "  '1015556.male.34.Technology.Virgo.xml': 0.0053463746549241575,\n",
       "  '1016560.male.41.Publishing.Sagittarius.xml': 0.001398049287491876},\n",
       " '1005076.female.25.Arts.Cancer.xml': {'1000331.female.37.indUnk.Leo.xml': 0.000968370046665501,\n",
       "  '1004904.male.23.Arts.Capricorn.xml': 0.0013444824067969652,\n",
       "  '1005076.female.25.Arts.Cancer.xml': -3.552713678800501e-15,\n",
       "  '1005545.male.25.Engineering.Sagittarius.xml': 0.0027725951929432613,\n",
       "  '1007188.male.48.Religion.Libra.xml': 0.0007885354127523669,\n",
       "  '100812.female.26.Architecture.Aries.xml': 0.0021015727106838966,\n",
       "  '1008329.female.16.Student.Pisces.xml': 0.0015517408141066946,\n",
       "  '1009572.male.25.indUnk.Cancer.xml': 0.0006918968616943522,\n",
       "  '1011153.female.27.Technology.Virgo.xml': 0.0008106071633009471,\n",
       "  '1011289.female.25.indUnk.Libra.xml': 0.007365074141808314,\n",
       "  '1011311.female.17.indUnk.Scorpio.xml': 0.0029532211050508073,\n",
       "  '1013637.male.17.RealEstate.Virgo.xml': 0.00745074746274188,\n",
       "  '1015252.female.23.indUnk.Pisces.xml': 0.00401872211790244,\n",
       "  '1015556.male.34.Technology.Virgo.xml': 0.004805089310204402,\n",
       "  '1016560.male.41.Publishing.Sagittarius.xml': 0.0008638167764339899},\n",
       " '1005545.male.25.Engineering.Sagittarius.xml': {'1000331.female.37.indUnk.Leo.xml': 0.003048508785510995,\n",
       "  '1004904.male.23.Arts.Capricorn.xml': 0.003331567029826732,\n",
       "  '1005076.female.25.Arts.Cancer.xml': 0.0027725951929432613,\n",
       "  '1005545.male.25.Engineering.Sagittarius.xml': -1.509903313490213e-14,\n",
       "  '1007188.male.48.Religion.Libra.xml': 0.0026814897605150767,\n",
       "  '100812.female.26.Architecture.Aries.xml': 0.0036633072834102443,\n",
       "  '1008329.female.16.Student.Pisces.xml': 0.003435436804999248,\n",
       "  '1009572.male.25.indUnk.Cancer.xml': 0.002789581877527869,\n",
       "  '1011153.female.27.Technology.Virgo.xml': 0.002344407137671811,\n",
       "  '1011289.female.25.indUnk.Libra.xml': 0.009567197984588383,\n",
       "  '1011311.female.17.indUnk.Scorpio.xml': 0.004923038113648581,\n",
       "  '1013637.male.17.RealEstate.Virgo.xml': 0.009665840393089153,\n",
       "  '1015252.female.23.indUnk.Pisces.xml': 0.006006350416084438,\n",
       "  '1015556.male.34.Technology.Virgo.xml': 0.006518605019566137,\n",
       "  '1016560.male.41.Publishing.Sagittarius.xml': 0.0021843375866344994},\n",
       " '1007188.male.48.Religion.Libra.xml': {'1000331.female.37.indUnk.Leo.xml': 0.0010791409578410072,\n",
       "  '1004904.male.23.Arts.Capricorn.xml': 0.0013272713147070014,\n",
       "  '1005076.female.25.Arts.Cancer.xml': 0.0007885354127523669,\n",
       "  '1005545.male.25.Engineering.Sagittarius.xml': 0.0026814897605150767,\n",
       "  '1007188.male.48.Religion.Libra.xml': -1.9984014443252818e-15,\n",
       "  '100812.female.26.Architecture.Aries.xml': 0.0020757617618352153,\n",
       "  '1008329.female.16.Student.Pisces.xml': 0.0015335353147710729,\n",
       "  '1009572.male.25.indUnk.Cancer.xml': 0.0008074346769044727,\n",
       "  '1011153.female.27.Technology.Virgo.xml': 0.0007893182936832277,\n",
       "  '1011289.female.25.indUnk.Libra.xml': 0.0073496542451938485,\n",
       "  '1011311.female.17.indUnk.Scorpio.xml': 0.0029444945703590575,\n",
       "  '1013637.male.17.RealEstate.Virgo.xml': 0.007412910769535874,\n",
       "  '1015252.female.23.indUnk.Pisces.xml': 0.003987792508589716,\n",
       "  '1015556.male.34.Technology.Virgo.xml': 0.0047408594249412905,\n",
       "  '1016560.male.41.Publishing.Sagittarius.xml': 0.000835272075765725},\n",
       " '100812.female.26.Architecture.Aries.xml': {'1000331.female.37.indUnk.Leo.xml': 0.0023658646419862928,\n",
       "  '1004904.male.23.Arts.Capricorn.xml': 0.002642890474882198,\n",
       "  '1005076.female.25.Arts.Cancer.xml': 0.0021015727106838966,\n",
       "  '1005545.male.25.Engineering.Sagittarius.xml': 0.0036633072834102443,\n",
       "  '1007188.male.48.Religion.Libra.xml': 0.0020757617618352153,\n",
       "  '100812.female.26.Architecture.Aries.xml': -1.1546319456101628e-14,\n",
       "  '1008329.female.16.Student.Pisces.xml': 0.0027458483015605495,\n",
       "  '1009572.male.25.indUnk.Cancer.xml': 0.002113579573649438,\n",
       "  '1011153.female.27.Technology.Virgo.xml': 0.001657461700960372,\n",
       "  '1011289.female.25.indUnk.Libra.xml': 0.009004811064614926,\n",
       "  '1011311.female.17.indUnk.Scorpio.xml': 0.004187493125113573,\n",
       "  '1013637.male.17.RealEstate.Virgo.xml': 0.008872272383971369,\n",
       "  '1015252.female.23.indUnk.Pisces.xml': 0.005471883269322353,\n",
       "  '1015556.male.34.Technology.Virgo.xml': 0.006043770813888183,\n",
       "  '1016560.male.41.Publishing.Sagittarius.xml': 0.0017013943243837648},\n",
       " '1008329.female.16.Student.Pisces.xml': {'1000331.female.37.indUnk.Leo.xml': 0.0018483481955245962,\n",
       "  '1004904.male.23.Arts.Capricorn.xml': 0.002064455859779324,\n",
       "  '1005076.female.25.Arts.Cancer.xml': 0.0015517408141066946,\n",
       "  '1005545.male.25.Engineering.Sagittarius.xml': 0.003435436804999248,\n",
       "  '1007188.male.48.Religion.Libra.xml': 0.0015335353147710729,\n",
       "  '100812.female.26.Architecture.Aries.xml': 0.0027458483015605495,\n",
       "  '1008329.female.16.Student.Pisces.xml': -1.021405182655144e-14,\n",
       "  '1009572.male.25.indUnk.Cancer.xml': 0.0015779204244410483,\n",
       "  '1011153.female.27.Technology.Virgo.xml': 0.001410540822065376,\n",
       "  '1011289.female.25.indUnk.Libra.xml': 0.008204693502806726,\n",
       "  '1011311.female.17.indUnk.Scorpio.xml': 0.0035239806989477707,\n",
       "  '1013637.male.17.RealEstate.Virgo.xml': 0.00804308371435547,\n",
       "  '1015252.female.23.indUnk.Pisces.xml': 0.004815691235146247,\n",
       "  '1015556.male.34.Technology.Virgo.xml': 0.005497401678318026,\n",
       "  '1016560.male.41.Publishing.Sagittarius.xml': 0.0014588472332167646},\n",
       " '1009572.male.25.indUnk.Cancer.xml': {'1000331.female.37.indUnk.Leo.xml': 0.0009878044186131252,\n",
       "  '1004904.male.23.Arts.Capricorn.xml': 0.0013737672476210605,\n",
       "  '1005076.female.25.Arts.Cancer.xml': 0.0006918968616943522,\n",
       "  '1005545.male.25.Engineering.Sagittarius.xml': 0.002789581877527869,\n",
       "  '1007188.male.48.Religion.Libra.xml': 0.0008074346769044727,\n",
       "  '100812.female.26.Architecture.Aries.xml': 0.002113579573649438,\n",
       "  '1008329.female.16.Student.Pisces.xml': 0.0015779204244410483,\n",
       "  '1009572.male.25.indUnk.Cancer.xml': 0.0,\n",
       "  '1011153.female.27.Technology.Virgo.xml': 0.0008277159041691906,\n",
       "  '1011289.female.25.indUnk.Libra.xml': 0.007336708092130606,\n",
       "  '1011311.female.17.indUnk.Scorpio.xml': 0.002982249499085321,\n",
       "  '1013637.male.17.RealEstate.Virgo.xml': 0.007421651563643716,\n",
       "  '1015252.female.23.indUnk.Pisces.xml': 0.004025085913109128,\n",
       "  '1015556.male.34.Technology.Virgo.xml': 0.004788721519192518,\n",
       "  '1016560.male.41.Publishing.Sagittarius.xml': 0.0008818905031282576},\n",
       " '1011153.female.27.Technology.Virgo.xml': {'1000331.female.37.indUnk.Leo.xml': 0.001109761782817853,\n",
       "  '1004904.male.23.Arts.Capricorn.xml': 0.0013525806853393885,\n",
       "  '1005076.female.25.Arts.Cancer.xml': 0.0008106071633009471,\n",
       "  '1005545.male.25.Engineering.Sagittarius.xml': 0.002344407137671811,\n",
       "  '1007188.male.48.Religion.Libra.xml': 0.0007893182936832277,\n",
       "  '100812.female.26.Architecture.Aries.xml': 0.001657461700960372,\n",
       "  '1008329.female.16.Student.Pisces.xml': 0.001410540822065376,\n",
       "  '1009572.male.25.indUnk.Cancer.xml': 0.0008277159041691906,\n",
       "  '1011153.female.27.Technology.Virgo.xml': -8.881784197001252e-16,\n",
       "  '1011289.female.25.indUnk.Libra.xml': 0.0072990021970832375,\n",
       "  '1011311.female.17.indUnk.Scorpio.xml': 0.002817107800900387,\n",
       "  '1013637.male.17.RealEstate.Virgo.xml': 0.007233817960124345,\n",
       "  '1015252.female.23.indUnk.Pisces.xml': 0.003995072327862004,\n",
       "  '1015556.male.34.Technology.Virgo.xml': 0.0046184122344219425,\n",
       "  '1016560.male.41.Publishing.Sagittarius.xml': 0.0004282231177461515},\n",
       " '1011289.female.25.indUnk.Libra.xml': {'1000331.female.37.indUnk.Leo.xml': 0.007654286360180507,\n",
       "  '1004904.male.23.Arts.Capricorn.xml': 0.008007905104850388,\n",
       "  '1005076.female.25.Arts.Cancer.xml': 0.007365074141808314,\n",
       "  '1005545.male.25.Engineering.Sagittarius.xml': 0.009567197984588383,\n",
       "  '1007188.male.48.Religion.Libra.xml': 0.0073496542451938485,\n",
       "  '100812.female.26.Architecture.Aries.xml': 0.009004811064614926,\n",
       "  '1008329.female.16.Student.Pisces.xml': 0.008204693502806726,\n",
       "  '1009572.male.25.indUnk.Cancer.xml': 0.007336708092130606,\n",
       "  '1011153.female.27.Technology.Virgo.xml': 0.0072990021970832375,\n",
       "  '1011289.female.25.indUnk.Libra.xml': -4.6851411639181606e-14,\n",
       "  '1011311.female.17.indUnk.Scorpio.xml': 0.009754966894735206,\n",
       "  '1013637.male.17.RealEstate.Virgo.xml': 0.014975862375241955,\n",
       "  '1015252.female.23.indUnk.Pisces.xml': 0.011123333838167437,\n",
       "  '1015556.male.34.Technology.Virgo.xml': 0.012003783870020213,\n",
       "  '1016560.male.41.Publishing.Sagittarius.xml': 0.007372517196463035},\n",
       " '1011311.female.17.indUnk.Scorpio.xml': {'1000331.female.37.indUnk.Leo.xml': 0.00323296264804529,\n",
       "  '1004904.male.23.Arts.Capricorn.xml': 0.003526530339388656,\n",
       "  '1005076.female.25.Arts.Cancer.xml': 0.0029532211050508073,\n",
       "  '1005545.male.25.Engineering.Sagittarius.xml': 0.004923038113648581,\n",
       "  '1007188.male.48.Religion.Libra.xml': 0.0029444945703590575,\n",
       "  '100812.female.26.Architecture.Aries.xml': 0.004187493125113573,\n",
       "  '1008329.female.16.Student.Pisces.xml': 0.0035239806989477707,\n",
       "  '1009572.male.25.indUnk.Cancer.xml': 0.002982249499085321,\n",
       "  '1011153.female.27.Technology.Virgo.xml': 0.002817107800900387,\n",
       "  '1011289.female.25.indUnk.Libra.xml': 0.009754966894735206,\n",
       "  '1011311.female.17.indUnk.Scorpio.xml': -1.9317880628477724e-14,\n",
       "  '1013637.male.17.RealEstate.Virgo.xml': 0.009384706776989327,\n",
       "  '1015252.female.23.indUnk.Pisces.xml': 0.006314056326423234,\n",
       "  '1015556.male.34.Technology.Virgo.xml': 0.006957977002380211,\n",
       "  '1016560.male.41.Publishing.Sagittarius.xml': 0.002868460266445827},\n",
       " '1013637.male.17.RealEstate.Virgo.xml': {'1000331.female.37.indUnk.Leo.xml': 0.007745174616871742,\n",
       "  '1004904.male.23.Arts.Capricorn.xml': 0.007947904594913124,\n",
       "  '1005076.female.25.Arts.Cancer.xml': 0.00745074746274188,\n",
       "  '1005545.male.25.Engineering.Sagittarius.xml': 0.009665840393089153,\n",
       "  '1007188.male.48.Religion.Libra.xml': 0.007412910769535874,\n",
       "  '100812.female.26.Architecture.Aries.xml': 0.008872272383971369,\n",
       "  '1008329.female.16.Student.Pisces.xml': 0.00804308371435547,\n",
       "  '1009572.male.25.indUnk.Cancer.xml': 0.007421651563643716,\n",
       "  '1011153.female.27.Technology.Virgo.xml': 0.007233817960124345,\n",
       "  '1011289.female.25.indUnk.Libra.xml': 0.014975862375241955,\n",
       "  '1011311.female.17.indUnk.Scorpio.xml': 0.009384706776989327,\n",
       "  '1013637.male.17.RealEstate.Virgo.xml': -4.6851411639181606e-14,\n",
       "  '1015252.female.23.indUnk.Pisces.xml': 0.011197320754882112,\n",
       "  '1015556.male.34.Technology.Virgo.xml': 0.011815851209057038,\n",
       "  '1016560.male.41.Publishing.Sagittarius.xml': 0.007300577269447883},\n",
       " '1015252.female.23.indUnk.Pisces.xml': {'1000331.female.37.indUnk.Leo.xml': 0.004287016893766871,\n",
       "  '1004904.male.23.Arts.Capricorn.xml': 0.0044990142025892466,\n",
       "  '1005076.female.25.Arts.Cancer.xml': 0.00401872211790244,\n",
       "  '1005545.male.25.Engineering.Sagittarius.xml': 0.006006350416084438,\n",
       "  '1007188.male.48.Religion.Libra.xml': 0.003987792508589716,\n",
       "  '100812.female.26.Architecture.Aries.xml': 0.005471883269322353,\n",
       "  '1008329.female.16.Student.Pisces.xml': 0.004815691235146247,\n",
       "  '1009572.male.25.indUnk.Cancer.xml': 0.004025085913109128,\n",
       "  '1011153.female.27.Technology.Virgo.xml': 0.003995072327862004,\n",
       "  '1011289.female.25.indUnk.Libra.xml': 0.011123333838167437,\n",
       "  '1011311.female.17.indUnk.Scorpio.xml': 0.006314056326423234,\n",
       "  '1013637.male.17.RealEstate.Virgo.xml': 0.011197320754882112,\n",
       "  '1015252.female.23.indUnk.Pisces.xml': -3.5083047578154947e-14,\n",
       "  '1015556.male.34.Technology.Virgo.xml': 0.007945905545908682,\n",
       "  '1016560.male.41.Publishing.Sagittarius.xml': 0.004031130790622117},\n",
       " '1015556.male.34.Technology.Virgo.xml': {'1000331.female.37.indUnk.Leo.xml': 0.005039494657689381,\n",
       "  '1004904.male.23.Arts.Capricorn.xml': 0.0053463746549241575,\n",
       "  '1005076.female.25.Arts.Cancer.xml': 0.004805089310204402,\n",
       "  '1005545.male.25.Engineering.Sagittarius.xml': 0.006518605019566137,\n",
       "  '1007188.male.48.Religion.Libra.xml': 0.0047408594249412905,\n",
       "  '100812.female.26.Architecture.Aries.xml': 0.006043770813888183,\n",
       "  '1008329.female.16.Student.Pisces.xml': 0.005497401678318026,\n",
       "  '1009572.male.25.indUnk.Cancer.xml': 0.004788721519192518,\n",
       "  '1011153.female.27.Technology.Virgo.xml': 0.0046184122344219425,\n",
       "  '1011289.female.25.indUnk.Libra.xml': 0.012003783870020213,\n",
       "  '1011311.female.17.indUnk.Scorpio.xml': 0.006957977002380211,\n",
       "  '1013637.male.17.RealEstate.Virgo.xml': 0.011815851209057038,\n",
       "  '1015252.female.23.indUnk.Pisces.xml': 0.007945905545908682,\n",
       "  '1015556.male.34.Technology.Virgo.xml': -2.4868995751603507e-14,\n",
       "  '1016560.male.41.Publishing.Sagittarius.xml': 0.00468410125694485},\n",
       " '1016560.male.41.Publishing.Sagittarius.xml': {'1000331.female.37.indUnk.Leo.xml': 0.0011496090243836576,\n",
       "  '1004904.male.23.Arts.Capricorn.xml': 0.001398049287491876,\n",
       "  '1005076.female.25.Arts.Cancer.xml': 0.0008638167764339899,\n",
       "  '1005545.male.25.Engineering.Sagittarius.xml': 0.0021843375866344994,\n",
       "  '1007188.male.48.Religion.Libra.xml': 0.000835272075765725,\n",
       "  '100812.female.26.Architecture.Aries.xml': 0.0017013943243837648,\n",
       "  '1008329.female.16.Student.Pisces.xml': 0.0014588472332167646,\n",
       "  '1009572.male.25.indUnk.Cancer.xml': 0.0008818905031282576,\n",
       "  '1011153.female.27.Technology.Virgo.xml': 0.0004282231177461515,\n",
       "  '1011289.female.25.indUnk.Libra.xml': 0.007372517196463035,\n",
       "  '1011311.female.17.indUnk.Scorpio.xml': 0.002868460266445827,\n",
       "  '1013637.male.17.RealEstate.Virgo.xml': 0.007300577269447883,\n",
       "  '1015252.female.23.indUnk.Pisces.xml': 0.004031130790622117,\n",
       "  '1015556.male.34.Technology.Virgo.xml': 0.00468410125694485,\n",
       "  '1016560.male.41.Publishing.Sagittarius.xml': -2.220446049250313e-16}}"
      ]
     },
     "execution_count": 21,
     "metadata": {},
     "output_type": "execute_result"
    }
   ],
   "source": [
    "testDict"
   ]
  },
  {
   "cell_type": "code",
   "execution_count": 24,
   "metadata": {
    "scrolled": false
   },
   "outputs": [],
   "source": [
    "# # (This step scales really badly)\n",
    "\n",
    "# similarityDict = {}\n",
    "# for person in tdm:\n",
    "#     similarityDict[person] = {}\n",
    "    \n",
    "# for ind in range(len(keys)):\n",
    "#     for i in range(len(keys)):\n",
    "#         dist = cosDist(tdm[keys[ind]], tdm[keys[i]])\n",
    "#         similarityDict[keys[ind]][keys[i]] = ((dist < .0003) and (dist > .000000001))\n",
    "# #         if ((dist < .00007) and (dist > .000000001)):\n",
    "# #             print(dist)\n",
    "# #             print(i)\n",
    "# #             print(ind)\n",
    "\n",
    "similarityDict = {person:{relation:cosDist(tdm[person], tdm[relation]) for relation in tdm} for person in tdm}"
   ]
  },
  {
   "cell_type": "code",
   "execution_count": 25,
   "metadata": {},
   "outputs": [],
   "source": [
    "similarityFrame = pd.DataFrame(similarityDict)"
   ]
  },
  {
   "cell_type": "code",
   "execution_count": 26,
   "metadata": {
    "scrolled": true
   },
   "outputs": [
    {
     "name": "stdout",
     "output_type": "stream",
     "text": [
      "0.001644971408827578\n",
      "2.220446049250313e-16\n",
      "0.0013444824067969652\n",
      "0.003331567029826732\n",
      "0.0013272713147070014\n",
      "0.002642890474882198\n",
      "0.002064455859779324\n",
      "0.0013737672476210605\n",
      "0.0013525806853393885\n",
      "0.008007905104850388\n",
      "0.003526530339388656\n",
      "0.007947904594913124\n",
      "0.0044990142025892466\n",
      "0.0053463746549241575\n",
      "0.001398049287491876\n"
     ]
    }
   ],
   "source": [
    "person = similarityFrame[\"1004904.male.23.Arts.Capricorn.xml\"]\n",
    "for p in person.keys():\n",
    "    print(person[p])"
   ]
  },
  {
   "cell_type": "code",
   "execution_count": 27,
   "metadata": {},
   "outputs": [],
   "source": [
    "# similarityFrame.to_json(path_or_buf=\"./similarity.json\")"
   ]
  },
  {
   "cell_type": "code",
   "execution_count": 28,
   "metadata": {},
   "outputs": [],
   "source": [
    "# similarityFrame = similarityFrame.transpose()\n",
    "# similarityFrame.to_csv(path_or_buf=\"./similarity.csv\", index_label=\"person\", na_rep=\"undefined\")"
   ]
  },
  {
   "cell_type": "code",
   "execution_count": 29,
   "metadata": {},
   "outputs": [],
   "source": [
    "file = open(\"writeTest.json\", \"w\")\n",
    "file.write(\"{\")\n",
    "file.write('\"nodes\":[')\n",
    "for i in range(len(tdm.keys())-1):\n",
    "    file.write('{\"id\": \"'+tdm.keys()[i]+'\", \"group\":'+ occupationDict[occupations[i]] +'},')\n",
    "file.write('{\"id\": \"'+tdm.keys()[len(tdm.keys())-1]+'\", \"group\": 1'+ occupationDict[occupations[i]] +'}')\n",
    "file.write(\"],\")\n",
    "\n",
    "file.write('\"links\":[')\n",
    "for person in similarityFrame:\n",
    "    for relation in similarityFrame[person].keys():\n",
    "        if similarityFrame[person][relation]:\n",
    "            file.write('{\"source\": \"'+person+'\", \"target\": \"'+relation+'\", \"value\": 1}, \\n')\n",
    "file.write(\"]\")\n",
    "file.write(\"}\")\n",
    "file.close()"
   ]
  },
  {
   "cell_type": "code",
   "execution_count": null,
   "metadata": {},
   "outputs": [],
   "source": []
  }
 ],
 "metadata": {
  "kernelspec": {
   "display_name": "Python 3",
   "language": "python",
   "name": "python3"
  },
  "language_info": {
   "codemirror_mode": {
    "name": "ipython",
    "version": 3
   },
   "file_extension": ".py",
   "mimetype": "text/x-python",
   "name": "python",
   "nbconvert_exporter": "python",
   "pygments_lexer": "ipython3",
   "version": "3.6.5"
  }
 },
 "nbformat": 4,
 "nbformat_minor": 2
}
